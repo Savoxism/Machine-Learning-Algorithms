{
  "nbformat": 4,
  "nbformat_minor": 0,
  "metadata": {
    "colab": {
      "provenance": [],
      "authorship_tag": "ABX9TyMW4c0XupAtXWEg0fFLrd8T",
      "include_colab_link": true
    },
    "kernelspec": {
      "name": "python3",
      "display_name": "Python 3"
    },
    "language_info": {
      "name": "python"
    }
  },
  "cells": [
    {
      "cell_type": "markdown",
      "metadata": {
        "id": "view-in-github",
        "colab_type": "text"
      },
      "source": [
        "<a href=\"https://colab.research.google.com/github/Savoxism/Mathematical-Algorithms/blob/main/AB_testing.ipynb\" target=\"_parent\"><img src=\"https://colab.research.google.com/assets/colab-badge.svg\" alt=\"Open In Colab\"/></a>"
      ]
    },
    {
      "cell_type": "code",
      "execution_count": 1,
      "metadata": {
        "id": "gj3rYYdmycUp"
      },
      "outputs": [],
      "source": [
        "import math\n",
        "import numpy as np\n",
        "import pandas as pd\n",
        "from scipy import stats"
      ]
    },
    {
      "cell_type": "code",
      "source": [
        "# Load the data from the test using pd.read_csv\n",
        "data = pd.read_csv(\"background_color_experiment.csv\")\n",
        "\n",
        "# Print the first 10 rows\n",
        "data.head(10)"
      ],
      "metadata": {
        "id": "Dco2adzx50z0"
      },
      "execution_count": null,
      "outputs": []
    },
    {
      "cell_type": "code",
      "source": [
        "# Separate the data from the two groups (sd stands for session duration)\n",
        "control_sd_data = data[data[\"user_type\"]==\"control\"][\"session_duration\"]\n",
        "variation_sd_data = data[data[\"user_type\"]==\"variation\"][\"session_duration\"]\n",
        "\n",
        "print(f\"{len(control_sd_data)} users saw the original website with an average duration of {control_sd_data.mean():.2f} minutes\\n\")\n",
        "print(f\"{len(variation_sd_data)} users saw the new website with an average duration of {variation_sd_data.mean():.2f} minutes\")"
      ],
      "metadata": {
        "id": "DCEbbHoF54CG"
      },
      "execution_count": null,
      "outputs": []
    },
    {
      "cell_type": "code",
      "source": [
        "# X_c stores the session tome for the control group and X_v, for the variation group.\n",
        "X_c = control_sd_data.to_numpy()\n",
        "X_v = variation_sd_data.to_numpy()"
      ],
      "metadata": {
        "id": "HSRx4dtG562W"
      },
      "execution_count": null,
      "outputs": []
    },
    {
      "cell_type": "code",
      "source": [
        "def get_stats(X):\n",
        "    \"\"\"\n",
        "    Calculate basic statistics of a given data set.\n",
        "\n",
        "    Parameters:\n",
        "    X (numpy.array): Input data.\n",
        "\n",
        "    Returns:\n",
        "    tuple: A tuple containing:\n",
        "        - n (int): Number of elements in the data set.\n",
        "        - x (float): Mean of the data set.\n",
        "        - s (float): Sample standard deviation of the data set.\n",
        "    \"\"\"\n",
        "\n",
        "    ### START CODE HERE ###\n",
        "\n",
        "    # Get the group size\n",
        "    n = len(X)\n",
        "    # Get the group mean\n",
        "    x = np.mean(X)\n",
        "    # Get the group sample standard deviation (do not forget to pass the parameter ddof if using the method .std)\n",
        "    s = np.std(X, ddof=1)\n",
        "\n",
        "    ### END CODE HERE ###\n",
        "\n",
        "    return (n,x,s)\n",
        "\n",
        "n_c, x_c, s_c = get_stats(X_c)\n",
        "n_v, x_v, s_v = get_stats(X_v)\n",
        "print(f\"For X_c:\\n\\tn_c = {n_c}, x_c = {x_c:.2f}, s_c = {s_c:.2f} \")\n",
        "print(f\"For X_v:\\n\\tn_v = {n_v}, x_v = {x_v:.2f}, s_v = {s_v:.2f} \")"
      ],
      "metadata": {
        "id": "OisQwgNF5_LG"
      },
      "execution_count": null,
      "outputs": []
    },
    {
      "cell_type": "code",
      "source": [
        "def degrees_of_freedom(n_v, s_v, n_c, s_c):\n",
        "    \"\"\"Computes the degrees of freedom for two samples.\n",
        "\n",
        "    Args:\n",
        "        control_metrics (estimation_metrics_cont): The metrics for the control sample.\n",
        "        variation_metrics (estimation_metrics_cont): The metrics for the variation sample.\n",
        "\n",
        "    Returns:\n",
        "        numpy.float: The degrees of freedom.\n",
        "    \"\"\"\n",
        "\n",
        "    ### START CODE HERE ###\n",
        "\n",
        "    # To make the code clean, let's divide the numerator and the denominator.\n",
        "    # Also, note that the value s_c^2/n_c and s_v^2/n_v appears both in the numerator and denominator, so let's also compute them separately\n",
        "\n",
        "    # Compute s_v^2/n_v (remember to use Python syntax or np.square)\n",
        "    s_v_n_v = s_v**2 / n_v\n",
        "\n",
        "    # Compute s_c^2/n_c (remember to use Python syntax or np.square)\n",
        "    s_c_n_c = s_c**2 / n_c\n",
        "\n",
        "\n",
        "    # Compute the numerator in the formula given above\n",
        "    numerator = (s_v_n_v + s_c_n_c)**2\n",
        "\n",
        "    # Compute the denominator in the formula given above. Attention that s_c_n_c and s_v_n_v appears squared here!\n",
        "    # Also, remember to use parenthesis to indicate the operation order. Note that a/b+1 is different from a/(b+1).\n",
        "    denominator = (s_c_n_c**2) / (n_c-1) + (s_v_n_v**2) / (n_v-1)\n",
        "\n",
        "    ### END CODE HERE ###\n",
        "\n",
        "    dof = numerator/denominator\n",
        "\n",
        "    return dof\n",
        "\n",
        "d = degrees_of_freedom(n_v, s_v, n_c, s_c)\n",
        "print(f\"The degrees of freedom for the t-student in this scenario is: {d:.2f}\")"
      ],
      "metadata": {
        "id": "bJxl8xKk5_6i"
      },
      "execution_count": null,
      "outputs": []
    },
    {
      "cell_type": "code",
      "source": [
        "def t_value(n_v, x_v, s_v, n_c, x_c, s_c):\n",
        "\n",
        "    ### START CODE HERE ###\n",
        "\n",
        "    # As you did before, let's split the numerator and denominator to make the code cleaner.\n",
        "    # Also, let's compute again separately s_c^2/n_c and s_v^2/n_v.\n",
        "\n",
        "    # Compute s_v^2/n_v (remember to use Python syntax or np.square)\n",
        "    s_v_n_v = np.square(s_v) / n_v\n",
        "\n",
        "    # Compute s_c^2/n_c (remember to use Python syntax or np.square)\n",
        "    s_c_n_c = np.square(s_c) / n_c\n",
        "\n",
        "    # Compute the numerator for the t-value as given in the formula above\n",
        "    numerator = x_v - x_c\n",
        "\n",
        "    # Compute the denominator for the t-value as given in the formula above. You may use np.sqrt to compute the square root.\n",
        "    denominator = np.sqrt(s_v_n_v + s_c_n_c)\n",
        "\n",
        "    ### END CODE HERE ###\n",
        "\n",
        "    t = numerator/denominator\n",
        "\n",
        "    return t\n",
        "\n",
        "t = t_value(n_v, x_v, s_v, n_c, x_c, s_c)\n",
        "print(f\"The t-value for this experiment is: {t:.2f}\")"
      ],
      "metadata": {
        "id": "q9U8XKx66Ilq"
      },
      "execution_count": null,
      "outputs": []
    },
    {
      "cell_type": "code",
      "source": [
        "def p_value(d, t_value):\n",
        "\n",
        "    ### START CODE HERE ###\n",
        "\n",
        "    # Load the t-student distribution with $d$ degrees of freedom. Remember that the parameter in the stats.t is given by df.\n",
        "    t_d = stats.t(df=d)\n",
        "\n",
        "    # Compute the p-value, P(t_d > t). Remember to use the t_d.cdf with the proper adjustments as discussed above.\n",
        "    p = 1 - t_d.cdf(t_value)\n",
        "\n",
        "\n",
        "    ### END CODE HERE ###\n",
        "\n",
        "    return p"
      ],
      "metadata": {
        "id": "hjrpX31e6La7"
      },
      "execution_count": null,
      "outputs": []
    },
    {
      "cell_type": "code",
      "source": [
        "def make_decision(X_v, X_c, alpha = 0.05):\n",
        "\n",
        "    # Compute n_v, x_v and s_v\n",
        "    n_v, x_v, s_v = get_stats(X_v)\n",
        "\n",
        "    # Compute n_c, x_c and s_c\n",
        "    n_c, x_c, s_c = get_stats(X_c)\n",
        "\n",
        "    # Compute the degrees of freedom for the t-student distribution for this experiment.\n",
        "    # Pay attention to the arguments order. You may look the function definition above to make sure you don't swap values.\n",
        "    # Also, remember that x_c and x_v are not used in this computation\n",
        "    d = degrees_of_freedom(n_v, s_v, n_c, s_c)\n",
        "\n",
        "    # Compute the t-value\n",
        "    t = t_value(n_v, x_v, s_v, n_c, x_c, s_c)\n",
        "\n",
        "    # Compute the p-value for the t-student distribution with d degrees of freedom\n",
        "    p = p_value(d, t)\n",
        "\n",
        "    # This is the decision step. Compare p with alpha to decide about rejecting H_0 or not.\n",
        "    # Pay attention to the return value for each block to properly write the condition.\n",
        "\n",
        "    if p < alpha:\n",
        "        return 'Reject H_0'\n",
        "    else:\n",
        "        return 'Do not reject H_0'\n"
      ],
      "metadata": {
        "id": "OzlY1XzE6N1z"
      },
      "execution_count": null,
      "outputs": []
    },
    {
      "cell_type": "code",
      "source": [
        "alphas = [0.06, 0.05, 0.04, 0.01]\n",
        "for alpha in alphas:\n",
        "    print(f\"For an alpha of {alpha} the decision is to: {make_decision(X_v, X_c, alpha = alpha)}\")"
      ],
      "metadata": {
        "id": "PfjgMvwA6Upw"
      },
      "execution_count": null,
      "outputs": []
    }
  ]
}

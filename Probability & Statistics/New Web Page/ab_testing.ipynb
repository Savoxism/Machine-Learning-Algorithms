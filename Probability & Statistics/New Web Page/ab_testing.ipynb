{
 "cells": [
  {
   "cell_type": "markdown",
   "id": "751a404c",
   "metadata": {},
   "source": [
    "# AB Testing - E-Commerce\n",
    "\n",
    "Hello everyone, in this small project we are going to look at some practical use of A/B Testing. Recently, a company has developed a new web page in order to try and increase the number of users who \"convert,\" meaning the number of users who decide to pay for the company's product. Our goal is to help the company understand if they should implement this new page, keep the old page, or perhaps run the experiment longer to make their decision.\n",
    "\n",
    "To solve this task, we will define functions that estimate the relevant information out of the samples, compute the relevant statistic given each case and make a decision on whether to (or not) reject the null hypothesis.\n",
    "\n",
    "IMPORTANT!! The actual metric being tested is \"converted\" (whether a user made a purchase), which is a binary outcome (0 or 1). The code treats this as if it were a continuous variable. For binary outcomes, it's more common to use a chi-square test or logistic regression rather than a t-test. That said, with large sample sizes (which you have here), the t-test can still provide valid results due to the Central Limit Theorem. The means calculated here represent the proportion of conversions in each group.\n",
    "\n",
    "Let's get started!"
   ]
  },
  {
   "cell_type": "code",
   "execution_count": 1,
   "id": "a5759717",
   "metadata": {
    "tags": [
     "graded"
    ]
   },
   "outputs": [],
   "source": [
    "import math\n",
    "import numpy as np\n",
    "import pandas as pd\n",
    "from scipy import stats"
   ]
  },
  {
   "cell_type": "markdown",
   "id": "ab8f62a7",
   "metadata": {},
   "source": [
    "The metric we are going to evaluate is `converted`, which means whether the user decided to pay for the company's product.\n",
    "\n",
    "We are going to declare two groups:\n",
    "- `control`: These users will keep seeing your original website.\n",
    "\n",
    "\n",
    "- `treatment`: These users will see your website with the new web page."
   ]
  },
  {
   "cell_type": "code",
   "execution_count": 21,
   "id": "9ebfb03e",
   "metadata": {
    "tags": []
   },
   "outputs": [
    {
     "data": {
      "text/html": [
       "<div>\n",
       "<style scoped>\n",
       "    .dataframe tbody tr th:only-of-type {\n",
       "        vertical-align: middle;\n",
       "    }\n",
       "\n",
       "    .dataframe tbody tr th {\n",
       "        vertical-align: top;\n",
       "    }\n",
       "\n",
       "    .dataframe thead th {\n",
       "        text-align: right;\n",
       "    }\n",
       "</style>\n",
       "<table border=\"1\" class=\"dataframe\">\n",
       "  <thead>\n",
       "    <tr style=\"text-align: right;\">\n",
       "      <th></th>\n",
       "      <th>user_id</th>\n",
       "      <th>timestamp</th>\n",
       "      <th>group</th>\n",
       "      <th>landing_page</th>\n",
       "      <th>converted</th>\n",
       "    </tr>\n",
       "  </thead>\n",
       "  <tbody>\n",
       "    <tr>\n",
       "      <th>0</th>\n",
       "      <td>851104</td>\n",
       "      <td>11:48.6</td>\n",
       "      <td>control</td>\n",
       "      <td>old_page</td>\n",
       "      <td>0</td>\n",
       "    </tr>\n",
       "    <tr>\n",
       "      <th>1</th>\n",
       "      <td>804228</td>\n",
       "      <td>01:45.2</td>\n",
       "      <td>control</td>\n",
       "      <td>old_page</td>\n",
       "      <td>0</td>\n",
       "    </tr>\n",
       "    <tr>\n",
       "      <th>2</th>\n",
       "      <td>661590</td>\n",
       "      <td>55:06.2</td>\n",
       "      <td>treatment</td>\n",
       "      <td>new_page</td>\n",
       "      <td>0</td>\n",
       "    </tr>\n",
       "    <tr>\n",
       "      <th>3</th>\n",
       "      <td>853541</td>\n",
       "      <td>28:03.1</td>\n",
       "      <td>treatment</td>\n",
       "      <td>new_page</td>\n",
       "      <td>0</td>\n",
       "    </tr>\n",
       "    <tr>\n",
       "      <th>4</th>\n",
       "      <td>864975</td>\n",
       "      <td>52:26.2</td>\n",
       "      <td>control</td>\n",
       "      <td>old_page</td>\n",
       "      <td>1</td>\n",
       "    </tr>\n",
       "    <tr>\n",
       "      <th>5</th>\n",
       "      <td>936923</td>\n",
       "      <td>20:49.1</td>\n",
       "      <td>control</td>\n",
       "      <td>old_page</td>\n",
       "      <td>0</td>\n",
       "    </tr>\n",
       "    <tr>\n",
       "      <th>6</th>\n",
       "      <td>679687</td>\n",
       "      <td>26:46.9</td>\n",
       "      <td>treatment</td>\n",
       "      <td>new_page</td>\n",
       "      <td>1</td>\n",
       "    </tr>\n",
       "    <tr>\n",
       "      <th>7</th>\n",
       "      <td>719014</td>\n",
       "      <td>48:29.5</td>\n",
       "      <td>control</td>\n",
       "      <td>old_page</td>\n",
       "      <td>0</td>\n",
       "    </tr>\n",
       "    <tr>\n",
       "      <th>8</th>\n",
       "      <td>817355</td>\n",
       "      <td>58:09.0</td>\n",
       "      <td>treatment</td>\n",
       "      <td>new_page</td>\n",
       "      <td>1</td>\n",
       "    </tr>\n",
       "    <tr>\n",
       "      <th>9</th>\n",
       "      <td>839785</td>\n",
       "      <td>11:06.6</td>\n",
       "      <td>treatment</td>\n",
       "      <td>new_page</td>\n",
       "      <td>1</td>\n",
       "    </tr>\n",
       "  </tbody>\n",
       "</table>\n",
       "</div>"
      ],
      "text/plain": [
       "   user_id timestamp      group landing_page  converted\n",
       "0   851104   11:48.6    control     old_page          0\n",
       "1   804228   01:45.2    control     old_page          0\n",
       "2   661590   55:06.2  treatment     new_page          0\n",
       "3   853541   28:03.1  treatment     new_page          0\n",
       "4   864975   52:26.2    control     old_page          1\n",
       "5   936923   20:49.1    control     old_page          0\n",
       "6   679687   26:46.9  treatment     new_page          1\n",
       "7   719014   48:29.5    control     old_page          0\n",
       "8   817355   58:09.0  treatment     new_page          1\n",
       "9   839785   11:06.6  treatment     new_page          1"
      ]
     },
     "execution_count": 21,
     "metadata": {},
     "output_type": "execute_result"
    }
   ],
   "source": [
    "# Load the data\n",
    "data = pd.read_csv(\"ab_data.csv\")\n",
    "\n",
    "data.head(10)"
   ]
  },
  {
   "cell_type": "code",
   "execution_count": 22,
   "id": "e8f146e1",
   "metadata": {},
   "outputs": [
    {
     "name": "stdout",
     "output_type": "stream",
     "text": [
      "The dataset size is: 294480\n"
     ]
    }
   ],
   "source": [
    "print(f\"The dataset size is: {len(data)}\")"
   ]
  },
  {
   "cell_type": "code",
   "execution_count": 23,
   "id": "9552f1a8",
   "metadata": {
    "tags": []
   },
   "outputs": [
    {
     "name": "stdout",
     "output_type": "stream",
     "text": [
      "Control group size: 147202\n",
      "Treatment group size: 147278\n",
      "Control group conversion rate: 0.12039917935897611\n",
      "Treatment group conversion rate: 0.11891796466546259\n"
     ]
    }
   ],
   "source": [
    "# Separate the data from the two groups\n",
    "control_converted_data = data[data[\"group\"] == \"control\"]['converted']\n",
    "treatment_converted_data = data[data[\"group\"] == \"treatment\"]['converted']\n",
    "\n",
    "print(f\"Control group size: {len(control_converted_data)}\")\n",
    "print(f\"Treatment group size: {len(treatment_converted_data)}\")\n",
    "print(f\"Control group conversion rate: {control_converted_data.mean()}\")\n",
    "print(f\"Treatment group conversion rate: {treatment_converted_data.mean()}\")"
   ]
  },
  {
   "cell_type": "markdown",
   "id": "0946faf2",
   "metadata": {},
   "source": [
    "Notice that the split is not perfectly balanced. This is common in AB testing as there is randomness associated with the way the users are assigned to each group. \n",
    "\n",
    "At first glance it looks like the new web page did in fact drive users to stay longer on your website. However you know better than driving conclusions at face value out of this data so you decide to perform a hypothesis test to know if there is a significant difference between the **means** of these two segments. \n",
    "\n",
    "<a name=\"1\"></a>\n",
    "## 1 - The Underlying Mathematics\n",
    "\n",
    "Remember that your job is to measure if changing the web page leads to an increase of purchases. Rewriting this as hypothesis test, the **null hypothesis** is that the change did not affect the amount of purchases. Let's name the variables:\n",
    "\n",
    "- $\\mu_c$ is the average time a user **in the control group** spend in the website. Recall that the **control group** is the group accessing the website without the change in the background color.\n",
    "- $\\mu_v$ is the average time a user **in the variation groups** spend in the website. Recall that the **variation group** is the groups accessing the website **with the updated background color**.\n",
    "\n",
    "Also, recall that your intention is to measure if the background color leads to an **increase** in the time a visitor spend in the website. So writing this experiment as a hypothesis test, the **null hypothesis** is then $H_0: \\mu_c = \\mu_v$ and the **alternative hypothesis** is $H_1: \\mu_v > \\mu_c$, or equivalently, $H_1: \\mu_v - \\mu_c > 0$. \n",
    "\n",
    "Therefore, the hypothesis you will test is:\n",
    "\n",
    "$$H_0: \\mu_v = \\mu_c \\quad \\text{vs.} \\quad H_1: \\mu_v - \\mu_c > 0$$\n",
    "\n",
    "As you saw in the lectures, this is a **right-tailed** test, as you are looking for an increase in the average time. As you saw above, you have more than 2000 users per group, this is a great amount of data so it is reasonable to rely in the Central Limit Theorem that the **average time** for each group follows a normal distribution. Remember that this result is for the group **average time** altogether and not that the time each user spend follows a normal distribution. You don't know the exact distribution for the amount of time a user spend in your website, however, the CLT assures that if we gather enough data, their average time will be very close to a normal distribution whose mean is the average time a user spend in the website. Let's then define two new quantities:\n",
    "\n",
    "- $\\overline{X}_c$ - the control group **sample mean**.\n",
    "- $\\overline{X}_v$ - the variation group **sample mean**.\n",
    "- $n_c$ - the control group **size**.\n",
    "- $n_v$ - the variation group **size**.\n",
    "\n",
    "So, by the Central Limit Theorem, you may suppose that\n",
    "\n",
    "- $$\\overline{X}_c \\sim N\\left(\\mu_c, \\left(\\frac{\\sigma_c}{\\sqrt{n_c}}\\right)^2\\right)$$\n",
    "- $$\\overline{X}_v \\sim N\\left(\\mu_v, \\left(\\frac{\\sigma_v}{\\sqrt{n_v}}\\right)^2\\right)$$\n",
    "\n",
    "Note that with our assumptions of normality, $\\overline{X}_v - \\overline{X}_c$ also follows a normal distribution. So, if $H_0$ is true, then $\\mu_c = \\mu_v$ and $\\mu_v - \\mu_c = 0$, therefore:\n",
    "\n",
    "$$\\overline{X}_c - \\overline{X}_v \\sim N\\left(\\mu_v - \\mu_c, \\left(\\dfrac{\\sigma_v}{\\sqrt{n_v}}\\right)^2 + \\left(\\dfrac{\\sigma_c}{\\sqrt{n_c}}\\right)^2\\right) = N\\left(0, \\left(\\dfrac{\\sigma_v}{\\sqrt{n_v}}\\right)^2 + \\left(\\dfrac{\\sigma_c}{\\sqrt{n_c}}\\right)^2\\right)$$\n",
    "\n",
    "Or, equivalently:\n",
    "\n",
    "$$\\frac{\\left( \\overline{X}_v - \\overline{X}_c \\right)}{\\sqrt{\\left(\\frac{\\sigma_v}{\\sqrt{n_v}}\\right)^2 + \\left(\\frac{\\sigma_c}{\\sqrt{n_c}}\\right)^2}} \\sim N(0, 1)$$\n",
    "\n",
    "However, remember that **you don't know the exact values for** $\\sigma_v$ and $\\sigma_c$, as they are the **population standard deviation** and you are working with a sample, so the best you can do is compute the **sample standard deviation**. So you must replace $\\sigma_c$ and $\\sigma_v$ by the sample standard deviation, respectively, $s_c$ and $s_v$. You also saw in the lectures that replacing the population standard deviation by the sample standard deviation changes the random variable from a Normal to a t-student:\n",
    "\n",
    "$$t = \\frac{\\left( \\overline{X}_v - \\overline{X}_c \\right)}{\\sqrt{\\left(\\frac{s_v}{\\sqrt{n_v}}\\right)^2 + \\left(\\frac{s_c}{\\sqrt{n_c}}\\right)^2}} \\sim t_d$$\n",
    "\n",
    "Where $d$ is the **degrees of freedom** for this scenario. If we suppose that both groups have the same standard deviation, then $d = n_c + n_v - 2$, however there is no argument supporting this supposition, so the formula for the degrees of freedom gets a bit messier:\n",
    "\n",
    "$$d = \\frac{\\left[\\frac{s_{v}^2}{n_v} + \\frac{s_{c}^2}{n_c} \\right]^2}{\\frac{(s_{v}^2/n_v)^2}{n_v-1} + \\frac{(s_{c}^2/n_c)^2}{n_c-1}}$$\n",
    "\n",
    "Once you get the actual value for $t_d$ the, with a given significance level $\\alpha$, you can decide if this value falls within the range of values that are likely to occur in the $t$-student distribution (where 'likely' is related with your significance level). To perform this step you must find the value $p$ such that \n",
    "\n",
    "$$p = P(t_d > t | H_0)$$\n",
    "\n",
    "If this value is less than your significance level $\\alpha$, then you **reject the null hypothesis**, because it means that you observed a value that is very unlikely to occur (unlikely here means that is less than the significance level you have set) if $H_0$ is true.\n",
    "\n",
    "Also, remember that $P(t_d \\leq t)$ is the $\\text{CDF}$ (cumulative distribution function) for the $t$-student distribution with $d$ degrees of freedom in the point $x = t$, so to compute $P(t_d > t)$ you may compute:\n",
    "\n",
    "$$P(t_d > t) = 1 - \\text{CDF}_{t_d}(t)$$\n",
    "\n",
    "Since $P(t_d \\leq t) + P(t_d > t) = 1$"
   ]
  },
  {
   "cell_type": "markdown",
   "id": "9b280e63",
   "metadata": {},
   "source": [
    "<a name=\"4\"></a>\n",
    "## 4 - Step by step computation\n",
    "\n",
    "\n",
    "Wrapping up everything discussed above:\n",
    "\n",
    "The hypothesis test is given by:\n",
    "\n",
    "$$H_0: \\mu_v = \\mu_c \\quad \\text{vs.} \\quad H_1: \\mu_v - \\mu_c > 0$$\n",
    "\n",
    "You will start computing:\n",
    "\n",
    "- $n_c$ and $n_v$, the control and variation group sizes, respectively.\n",
    "- $\\overline{X}_c$ and $\\overline{X}_v$, the average time spent by the users in the control and variation group, respectively. \n",
    "- $s_c$ and $s_v$, the **sample** standard deviation for the time spend by the users in the control and variation group, respectively.\n",
    "\n",
    "With these quantities in hand, the next steps are to compute:\n",
    "\n",
    "- $d$, the degrees of freedom of the $t$-student distribution, $t_d$.\n",
    "- The $t$-value, which it will be called $t$.\n",
    "- The $p$ value for the distribution $t_d$ for the $t$-value, i.e., the value  $p = P(t_d > t | H_0)$.\n",
    "\n",
    "Finally, for a given significance level $\\alpha$, you will be able to decide if you reject or not $H_0$, depending on wether $p \\leq \\alpha$ or not.\n",
    "\n",
    "Let's get your hands into work now! Run the cell below to retrieve the session times for the control and variation groups."
   ]
  },
  {
   "cell_type": "code",
   "execution_count": 16,
   "id": "20e6f0fe",
   "metadata": {
    "tags": []
   },
   "outputs": [],
   "source": [
    "# X_c stores the session tome for the control group and X_t, for the treatment group. \n",
    "X_c = control_converted_data.to_numpy()\n",
    "X_t = treatment_converted_data.to_numpy()   "
   ]
  },
  {
   "cell_type": "code",
   "execution_count": 18,
   "id": "e58a42be",
   "metadata": {},
   "outputs": [
    {
     "name": "stdout",
     "output_type": "stream",
     "text": [
      "The first 10 entries for X_c are:\n",
      "[0 0 1 0 0 1 0 0 0 0 0 1 0 0 0 1 0 0 1 0]\n",
      "\n",
      "The first 10 entries for X_v are:\n",
      "[0 0 1 1 1 0 0 0 0 0 1 0 0 0 0 1 0 0 0 1]\n",
      "\n"
     ]
    }
   ],
   "source": [
    "print(f\"The first 10 entries for X_c are:\\n{X_c[:20]}\\n\")\n",
    "print(f\"The first 10 entries for X_v are:\\n{X_t[:20]}\\n\")"
   ]
  },
  {
   "cell_type": "code",
   "execution_count": 19,
   "id": "1e72eca9",
   "metadata": {
    "tags": [
     "graded"
    ]
   },
   "outputs": [],
   "source": [
    "# Calculate the basic statistics for the control group\n",
    "def get_stats(X):\n",
    "    \"\"\"\n",
    "    Calculate basic statistics of a given data set.\n",
    "\n",
    "    Parameters:\n",
    "    X (numpy.array): Input data.\n",
    "\n",
    "    Returns:\n",
    "    tuple: A tuple containing:\n",
    "        - n (int): Number of elements in the data set.\n",
    "        - x (float): Mean of the data set.\n",
    "        - s (float): Sample standard deviation of the data set.\n",
    "    \"\"\"\n",
    "    \n",
    "    # Get the group size\n",
    "    n = len(X)\n",
    "    # Get the group mean\n",
    "    x = np.mean(X)\n",
    "    # Get the group sample standard deviation (do not forget to pass the parameter ddof if using the method .std)\n",
    "    s = np.std(X, ddof=1)\n",
    "\n",
    "    return (n,x,s)"
   ]
  },
  {
   "cell_type": "code",
   "execution_count": 43,
   "id": "a38aa921",
   "metadata": {},
   "outputs": [
    {
     "name": "stdout",
     "output_type": "stream",
     "text": [
      "Control group size: 147202, mean: 0.120, standard deviation: 0.325\n",
      "Treatment group size: 147278, mean: 0.119, standard deviation: 0.324\n"
     ]
    }
   ],
   "source": [
    "n_c, x_c, s_c = get_stats(X_c)\n",
    "n_t, x_t, s_t = get_stats(X_t)\n",
    "\n",
    "print(f\"Control group size: {n_c}, mean: {x_c:.3f}, standard deviation: {s_c:.3f}\")\n",
    "print(f\"Treatment group size: {n_t}, mean: {x_t:.3f}, standard deviation: {s_t:.3f}\")"
   ]
  },
  {
   "cell_type": "markdown",
   "id": "657b5ec3",
   "metadata": {},
   "source": [
    "Next, let's compute the degrees of freedom\n",
    "\n",
    "$$\n",
    "\\nu \\approx \\frac{\\left(\\frac{s_1^2}{n_1} + \\frac{s_2^2}{n_2}\\right)^2}{\\frac{(s_1^2/n_1)^2}{n_1 - 1} + \\frac{(s_2^2/n_2)^2}{n_2 - 1}}\n",
    "$$\n",
    "Where:\n",
    "\n",
    "$\\nu$ is the degrees of freedom\n",
    "$s_1^2$ and $s_2^2$ are the sample variances\n",
    "$n_1$ and $n_2$ are the sample size"
   ]
  },
  {
   "cell_type": "code",
   "execution_count": 28,
   "id": "0689d522",
   "metadata": {
    "tags": [
     "graded"
    ]
   },
   "outputs": [],
   "source": [
    "# Compute the degrees of freedom\n",
    "def degrees_of_freedom(n_t, s_t, n_c, s_c):\n",
    "    \"\"\"Computes the degrees of freedom for two samples.\n",
    "\n",
    "    Args:\n",
    "        control_metrics (estimation_metrics_cont): The metrics for the control sample.\n",
    "        treatment_metrics (estimation_metrics_cont): The metrics for the treatment sample.\n",
    "\n",
    "    Returns:\n",
    "        numpy.float: The degrees of freedom.\n",
    "    \"\"\"\n",
    "\n",
    "    s_t_n_t = s_t**2 / n_t\n",
    "\n",
    "    # Compute s_c^2/n_c (remember to use Python syntax or np.square)\n",
    "    s_c_n_c = s_c**2 / n_c\n",
    "\n",
    "    # Compute the numerator in the formula given above\n",
    "    numerator = (s_t_n_t + s_c_n_c)**2\n",
    "\n",
    "    # Also, remember to use parenthesis to indicate the operation order. Note that a/b+1 is different from a/(b+1).\n",
    "    denominator = (s_c_n_c**2) / (n_c-1) + (s_t_n_t**2) / (n_t-1)\n",
    "    \n",
    "    ### END CODE HERE ###\n",
    "\n",
    "    dof = numerator/denominator\n",
    "        \n",
    "    return dof"
   ]
  },
  {
   "cell_type": "code",
   "execution_count": 44,
   "id": "edb611dd",
   "metadata": {},
   "outputs": [
    {
     "name": "stdout",
     "output_type": "stream",
     "text": [
      "The degrees of freedom for the t-student in this scenario is: 294467.87\n"
     ]
    }
   ],
   "source": [
    "d = degrees_of_freedom(n_t, s_t, n_c, s_c)\n",
    "print(f\"The degrees of freedom for the t-student in this scenario is: {d:.2f}\")"
   ]
  },
  {
   "cell_type": "markdown",
   "id": "3df20f77",
   "metadata": {},
   "source": [
    "<a name=\"ex03\"></a>\n",
    "### T-value\n",
    "\n",
    "In this exercise, you will compute the $t$-value, given by\n",
    "\n",
    "$$t = \\frac{\\left( \\overline{X}_t - \\overline{X}_c \\right)}{\\sqrt{\\left(\\frac{s_t}{\\sqrt{n_t}}\\right)^2 + \\left(\\frac{s_c}{\\sqrt{n_c}}\\right)^2}} = \\frac{\\left( \\overline{X}_t - \\overline{X}_c \\right)}{\\sqrt{\\frac{s_t^2}{n_t} + \\frac{s_c^2}{n_c}}}$$\n",
    "\n",
    "Remember that you are storing $\\overline{X}_c$ and $\\overline{X}_t$ in the variables $x_c$ and $x_t$, respectively. "
   ]
  },
  {
   "cell_type": "code",
   "execution_count": 31,
   "id": "49345865",
   "metadata": {
    "tags": [
     "graded"
    ]
   },
   "outputs": [],
   "source": [
    "def t_value(n_t, x_t, s_t, n_c, x_c, s_c):\n",
    "\n",
    "    # Compute s_t^2/n_t \n",
    "    s_t_n_t = np.square(s_t) / n_t\n",
    "\n",
    "    # Compute s_c^2/n_c (remember to use Python syntax or np.square)\n",
    "    s_c_n_c = np.square(s_c) / n_c\n",
    "\n",
    "    # Compute the numerator for the t-value as given in the formula above\n",
    "    numerator = x_t - x_c\n",
    "\n",
    "    # Compute the denominator for the t-value as given in the formula above\n",
    "    denominator = np.sqrt(s_t_n_t + s_c_n_c)\n",
    "\n",
    "    t = numerator/denominator\n",
    "\n",
    "    return t"
   ]
  },
  {
   "cell_type": "code",
   "execution_count": 45,
   "id": "c264a82a",
   "metadata": {},
   "outputs": [
    {
     "name": "stdout",
     "output_type": "stream",
     "text": [
      "The t-value for this experiment is: -1.238\n"
     ]
    }
   ],
   "source": [
    "t = t_value(n_t, x_t, s_t, n_c, x_c, s_c)\n",
    "print(f\"The t-value for this experiment is: {t:.3f}\")"
   ]
  },
  {
   "cell_type": "markdown",
   "id": "0eba57b1",
   "metadata": {},
   "source": [
    "<a name=\"ex04\"></a>\n",
    "### P_value\n",
    "\n",
    "In this exercise, you will compute the $p$ value for $t_d$, for a given significance level $\\alpha$. Recall that this experiment is a right-tailed t-test, because you are investigating whether the new web page increases the amount of purchases overall. \n",
    "\n",
    "In this experiment the $p$-value for a significance level of $\\alpha$ is given by\n",
    "\n",
    "$$p = P(t_d > t) = 1 - \\text{CDF}_{t_d}(t)$$\n",
    "\n",
    "Example:\n",
    "\n",
    "Suppose you want to compute the CDF for a $t$-student distribution with $d = 10$ degrees of freedom for a t-value of $1.21$."
   ]
  },
  {
   "cell_type": "code",
   "execution_count": 36,
   "id": "e2199728",
   "metadata": {},
   "outputs": [
    {
     "name": "stdout",
     "output_type": "stream",
     "text": [
      "The CDF for the t-student distribution with 10 degrees of freedom and t-value = 1.21, or equivalently P(t_10 < 1.21) is equal to: 0.87\n"
     ]
    }
   ],
   "source": [
    "t_10 = stats.t(df = 10)\n",
    "cdf = t_10.cdf(1.21)\n",
    "print(f\"The CDF for the t-student distribution with 10 degrees of freedom and t-value = 1.21, or equivalently P(t_10 < 1.21) is equal to: {cdf:.2f}\")"
   ]
  },
  {
   "cell_type": "code",
   "execution_count": 37,
   "id": "170e5d25",
   "metadata": {
    "tags": [
     "graded"
    ]
   },
   "outputs": [],
   "source": [
    "# Compute the p-value\n",
    "def p_value(d, t_value):\n",
    "\n",
    "    # Load the t-student distribution with $d$ degrees of freedom. Remember that the parameter in the stats.t is given by df.\n",
    "    t_d = stats.t(df=d)\n",
    "\n",
    "    # Compute the p-value, P(t_d > t). Remember to use the t_d.cdf with the proper adjustments as discussed above.\n",
    "    p = 1 - t_d.cdf(t_value)\n",
    "\n",
    "    return p"
   ]
  },
  {
   "cell_type": "markdown",
   "id": "57f3a4fd",
   "metadata": {},
   "source": [
    "<a name=\"ex05\"></a>\n",
    "### Wrapping up\n",
    "\n",
    "In this exercise you will wrap up all the functions you have built so far to decide if you accept $H_0$ or not, given a significance level of $\\alpha$.\n",
    "\n",
    "It will input both control and treatment groups and it will output `Reject H_0$` or `Do not reject H_0` accordingly.\n",
    "\n",
    "Remember that you **reject** $H_0$ if the p-value is **less than** $\\alpha$. "
   ]
  },
  {
   "cell_type": "code",
   "execution_count": 40,
   "id": "5e8409a6",
   "metadata": {
    "tags": [
     "graded"
    ]
   },
   "outputs": [],
   "source": [
    "def make_decision(X_t, X_c, alpha = 0.05):\n",
    "\n",
    "    # Compute n_v, x_t and s_t\n",
    "    n_t, x_t, s_t = get_stats(X_t)\n",
    "\n",
    "    # Compute n_c, x_c and s_c\n",
    "    n_c, x_c, s_c = get_stats(X_c)\n",
    "\n",
    "    # Compute the degrees of freedom for the t-student distribution for this experiment.\n",
    "    # Also, remember that x_c and x_v are not used in this computation\n",
    "    d = degrees_of_freedom(n_t, s_t, n_c, s_c)\n",
    "    \n",
    "    # Compute the t-value\n",
    "    t = t_value(n_t, x_t, s_t, n_c, x_c, s_c)\n",
    "\n",
    "    # Compute the p-value for the t-student distribution with d degrees of freedom\n",
    "    p = p_value(d, t)\n",
    "\n",
    "    # This is the decision step. Compare p with alpha to decide about rejecting H_0 or not. \n",
    "    if p < alpha:\n",
    "        return 'Reject H_0'\n",
    "    else:\n",
    "        return 'Do not reject H_0'\n"
   ]
  },
  {
   "cell_type": "code",
   "execution_count": 47,
   "id": "01702b6a",
   "metadata": {},
   "outputs": [
    {
     "name": "stdout",
     "output_type": "stream",
     "text": [
      "For an alpha of 0.06 the decision is to: Do not reject H_0\n",
      "For an alpha of 0.05 the decision is to: Do not reject H_0\n",
      "For an alpha of 0.04 the decision is to: Do not reject H_0\n",
      "For an alpha of 0.01 the decision is to: Do not reject H_0\n"
     ]
    }
   ],
   "source": [
    "alphas = [0.06, 0.05, 0.04, 0.01]\n",
    "for alpha in alphas:\n",
    "    print(f\"For an alpha of {alpha} the decision is to: {make_decision(X_t, X_c, alpha = alpha)}\")"
   ]
  }
 ],
 "metadata": {
  "grader_version": "2",
  "kernelspec": {
   "display_name": "Python 3 (ipykernel)",
   "language": "python",
   "name": "python3"
  },
  "language_info": {
   "codemirror_mode": {
    "name": "ipython",
    "version": 3
   },
   "file_extension": ".py",
   "mimetype": "text/x-python",
   "name": "python",
   "nbconvert_exporter": "python",
   "pygments_lexer": "ipython3",
   "version": "3.12.3"
  }
 },
 "nbformat": 4,
 "nbformat_minor": 5
}

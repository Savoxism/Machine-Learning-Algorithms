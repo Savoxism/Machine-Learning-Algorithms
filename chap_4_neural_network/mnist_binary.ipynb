{
 "cells": [
  {
   "cell_type": "code",
   "execution_count": null,
   "id": "21ccc5fb",
   "metadata": {},
   "outputs": [],
   "source": [
    "import numpy as np\n",
    "from mnist import MNIST\n",
    "import matplotlib.pyplot as plt\n",
    "from sklearn import linear_model\n",
    "from sklearn.metrics import accuracy_score"
   ]
  },
  {
   "cell_type": "code",
   "execution_count": null,
   "id": "52d70d38",
   "metadata": {},
   "outputs": [],
   "source": [
    "mntrain = MNIST('data\\\\mnist')\n",
    "mntrain.load_training()\n",
    "Xtrain_all = np.asarray(mntrain.train_images)\n",
    "ytrain_all = np.array(mntrain.train_labels.tolist())\n",
    "\n",
    "mntest = MNIST('data\\\\mnist')\n",
    "mntest.load_testing()\n",
    "Xtest_all = np.asarray(mntest.test_images)\n",
    "ytest_all = np.array(mntest.test_labels.tolist())"
   ]
  },
  {
   "cell_type": "code",
   "execution_count": null,
   "id": "303a9b67",
   "metadata": {},
   "outputs": [],
   "source": [
    "Xtrain_all.shape, ytrain_all.shape, Xtest_all.shape, ytest_all.shape"
   ]
  },
  {
   "cell_type": "code",
   "execution_count": null,
   "id": "46e4f996",
   "metadata": {},
   "outputs": [],
   "source": [
    "cls = [[0], [1]]\n",
    "\n",
    "def extract_data(X, y, classes):\n",
    "    \"\"\"\n",
    "    X: numpy array, matrix of size (N, d), d is data dim\n",
    "    y: numpy array, size (N, )\n",
    "    cls: two lists of labels. For example: \n",
    "        cls = [[1, 4, 7], [5, 6, 8]]\n",
    "    return:\n",
    "        X: extracted data\n",
    "        y: extracted label \n",
    "            (0 and 1, corresponding to two lists in cls)\n",
    "    \"\"\"\n",
    "\n",
    "    y_res_id = np.array([])\n",
    "\n",
    "    for i in cls[0]:\n",
    "        y_res_id = np.hstack((y_res_id, np.where(y == i)[0]))\n",
    "    n0 = len(y_res_id)\n",
    "\n",
    "    for i in cls[1]:\n",
    "        y_res_id = np.hstack((y_res_id, np.where(y == i)[0]))\n",
    "    n1 = len(y_res_id) - n0\n",
    "\n",
    "    y_res_id = y_res_id.astype(int)\n",
    "    X_res = X[y_res_id, :] / 255.0\n",
    "    y_res = np.asarray([0] * n0 + [1] * n1)\n",
    "    return X_res, y_res\n",
    "\n",
    "\n",
    "# extract data for training \n",
    "(X_train, y_train) = extract_data(Xtrain_all, ytrain_all, cls)\n",
    "\n",
    "# extract data for test \n",
    "(X_test, y_test) = extract_data(Xtest_all, ytest_all, cls)"
   ]
  },
  {
   "cell_type": "code",
   "execution_count": null,
   "id": "b26bac33",
   "metadata": {},
   "outputs": [],
   "source": [
    "X_train.shape, y_train.shape, X_test.shape, y_test.shape"
   ]
  },
  {
   "cell_type": "code",
   "execution_count": null,
   "id": "4e1fd66b",
   "metadata": {},
   "outputs": [],
   "source": [
    "# train the logistic regression model \n",
    "logreg = linear_model.LogisticRegression(C=1e5) # just a big number \n",
    "logreg.fit(X_train, y_train)\n",
    "\n",
    "# predict \n",
    "y_pred = logreg.predict(X_test)\n",
    "print(\"Accuracy: %.2f %%\" %(100*accuracy_score(y_test, y_pred.tolist())))"
   ]
  },
  {
   "cell_type": "code",
   "execution_count": null,
   "id": "55b11682",
   "metadata": {},
   "outputs": [],
   "source": [
    "def display_network(A, m = -1, n = -1):\n",
    "    opt_normalize = True\n",
    "    opt_graycolor = True\n",
    "\n",
    "    # Rescale\n",
    "    A = A - np.average(A)\n",
    "\n",
    "    # Compute rows & cols\n",
    "    (row, col) = A.shape\n",
    "    sz = int(np.ceil(np.sqrt(row)))\n",
    "    buf = 1\n",
    "    if m < 0 or n < 0:\n",
    "        n = int(np.ceil(np.sqrt(col)))\n",
    "        m = int(np.ceil(col / n))\n",
    "        \n",
    "\n",
    "    image = np.ones(shape=(buf + m * (sz + buf), buf + n * (sz + buf)))\n",
    "\n",
    "    if not opt_graycolor:\n",
    "        image *= 0.1\n",
    "\n",
    "    k = 0\n",
    "\n",
    "    for i in range(int(m)):\n",
    "        for j in range(int(n)):\n",
    "            if k >= col:\n",
    "                continue\n",
    "\n",
    "            clim = np.max(np.abs(A[:, k]))\n",
    "\n",
    "            if opt_normalize:\n",
    "                image[buf + i * (sz + buf):buf + i * (sz + buf) + sz, buf + j * (sz + buf):buf + j * (sz + buf) + sz] = \\\n",
    "                    A[:, k].reshape(sz, sz) / clim\n",
    "            else:\n",
    "                image[buf + i * (sz + buf):buf + i * (sz + buf) + sz, buf + j * (sz + buf):buf + j * (sz + buf) + sz] = \\\n",
    "                    A[:, k].reshape(sz, sz) / np.max(np.abs(A))\n",
    "            k += 1\n",
    "\n",
    "    return image"
   ]
  },
  {
   "cell_type": "code",
   "execution_count": null,
   "id": "dafa7441",
   "metadata": {},
   "outputs": [],
   "source": [
    "# display misclassified image(s)\n",
    "mis = np.where((y_pred - y_test) != 0)[0]\n",
    "Xmis = X_test[mis, :]\n",
    "\n",
    "plt.axis('off')\n",
    "A = display_network(Xmis.T)\n",
    "f2 = plt.imshow(A, interpolation='nearest' )\n",
    "plt.gray()\n",
    "plt.show()"
   ]
  },
  {
   "cell_type": "markdown",
   "id": "27668dc2",
   "metadata": {},
   "source": [
    "# Binary classfier for multi-class classification problem"
   ]
  },
  {
   "cell_type": "code",
   "execution_count": null,
   "id": "253adcef",
   "metadata": {},
   "outputs": [],
   "source": [
    "logreg.fit(Xtrain_all, ytrain_all)\n",
    "y_pred = logreg.predict(Xtest_all)\n",
    "print(\"Accuracy: %.2f %%\" %(100*accuracy_score(ytest_all, y_pred.tolist())))"
   ]
  },
  {
   "cell_type": "code",
   "execution_count": null,
   "id": "4a1693cb",
   "metadata": {},
   "outputs": [],
   "source": []
  }
 ],
 "metadata": {
  "kernelspec": {
   "display_name": "Python 3",
   "language": "python",
   "name": "python3"
  },
  "language_info": {
   "codemirror_mode": {
    "name": "ipython",
    "version": 3
   },
   "file_extension": ".py",
   "mimetype": "text/x-python",
   "name": "python",
   "nbconvert_exporter": "python",
   "pygments_lexer": "ipython3",
   "version": "3.12.3"
  }
 },
 "nbformat": 4,
 "nbformat_minor": 5
}

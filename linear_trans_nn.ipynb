{
  "nbformat": 4,
  "nbformat_minor": 0,
  "metadata": {
    "colab": {
      "provenance": [],
      "authorship_tag": "ABX9TyPwhN6hTqxbxrM+/74nkHn1",
      "include_colab_link": true
    },
    "kernelspec": {
      "name": "python3",
      "display_name": "Python 3"
    },
    "language_info": {
      "name": "python"
    }
  },
  "cells": [
    {
      "cell_type": "markdown",
      "metadata": {
        "id": "view-in-github",
        "colab_type": "text"
      },
      "source": [
        "<a href=\"https://colab.research.google.com/github/Savoxism/Mathematical-Algorithms/blob/main/linear_trans_nn.ipynb\" target=\"_parent\"><img src=\"https://colab.research.google.com/assets/colab-badge.svg\" alt=\"Open In Colab\"/></a>"
      ]
    },
    {
      "cell_type": "code",
      "execution_count": null,
      "metadata": {
        "id": "rpS-nCNBv46c"
      },
      "outputs": [],
      "source": [
        "import numpy as np\n",
        "import matplotlib.pyplot as plt\n",
        "import pandas as pd"
      ]
    },
    {
      "cell_type": "code",
      "source": [
        "def T(v):\n",
        "    w = np.zeros((3,1))\n",
        "    w[0,0] = 3*v[0,0]\n",
        "    w[2,0] = -2*v[1,0]\n",
        "\n",
        "    return w\n",
        "\n",
        "v = np.array([[3], [5]])\n",
        "w = T(v)\n",
        "\n",
        "print(\"Original vector:\\n\", v, \"\\n\\n Result of the transformation:\\n\", w)"
      ],
      "metadata": {
        "id": "aWUe5BWuP9Sx"
      },
      "execution_count": null,
      "outputs": []
    },
    {
      "cell_type": "code",
      "source": [
        "u = np.array([[1], [-2]])\n",
        "v = np.array([[2], [4]])\n",
        "\n",
        "k = 7\n",
        "\n",
        "print(\"T(k*v):\\n\", T(k*v), \"\\n k*T(v):\\n\", k*T(v), \"\\n\\n\")\n",
        "print(\"T(u+v):\\n\", T(u+v), \"\\n\\n T(u)+T(v):\\n\", T(u)+T(v))"
      ],
      "metadata": {
        "id": "Y8P9Wqj0P-V4"
      },
      "execution_count": null,
      "outputs": []
    },
    {
      "cell_type": "code",
      "source": [
        "def L(v):\n",
        "    A = np.array([[3,0], [0,0], [0,-2]])\n",
        "    print(\"Transformation matrix:\\n\", A, \"\\n\")\n",
        "    w = A @ v\n",
        "\n",
        "    return w\n",
        "\n",
        "v = np.array([[3], [5]])\n",
        "w = L(v)\n",
        "\n",
        "print(\"Original vector:\\n\", v, \"\\n\\n Result of the transformation:\\n\", w)"
      ],
      "metadata": {
        "id": "yU5XI1yMQQUy"
      },
      "execution_count": null,
      "outputs": []
    },
    {
      "cell_type": "code",
      "source": [
        "def T_hscaling(v):\n",
        "    A = np.array([[2,0], [0,1]])\n",
        "    w = A @ v\n",
        "\n",
        "    return w\n",
        "\n",
        "\n",
        "def transform_vectors(T, v1, v2):\n",
        "    V = np.hstack((v1, v2))\n",
        "    W = T(V)\n",
        "\n",
        "    return W\n",
        "\n",
        "e1 = np.array([[1], [0]])\n",
        "e2 = np.array([[0], [1]])\n",
        "\n",
        "transformation_result_hscaling = transform_vectors(T_hscaling, e1, e2)\n",
        "\n",
        "print(\"Original vectors:\\n e1= \\n\", e1, \"\\n e2=\\n\", e2,\n",
        "      \"\\n\\n Result of the transformation (matrix form):\\n\", transformation_result_hscaling)"
      ],
      "metadata": {
        "id": "WFLUCH1pQaMX"
      },
      "execution_count": null,
      "outputs": []
    },
    {
      "cell_type": "code",
      "source": [
        "def T_reflection_yaxis(v):\n",
        "    A = np.array([[-1,0], [0,1]])\n",
        "    w = A @ v\n",
        "\n",
        "    return w\n",
        "\n",
        "e1 = np.array([[1], [0]])\n",
        "e2 = np.array([[0], [1]])\n",
        "\n",
        "transformation_result_reflection_yaxis = transform_vectors(T_reflection_yaxis, e1, e2)\n",
        "\n",
        "print(\"Original vectors:\\n e1= \\n\", e1,\"\\n e2=\\n\", e2,\n",
        "      \"\\n\\n Result of the transformation (matrix form):\\n\", transformation_result_reflection_yaxis)"
      ],
      "metadata": {
        "id": "-0GNi011Q4s5"
      },
      "execution_count": null,
      "outputs": []
    },
    {
      "cell_type": "code",
      "source": [
        "# Stretching by a scalar\n",
        "\n",
        "def T_stretch(a, v):\n",
        "    \"\"\"\n",
        "    Performs a 2D stretching transformation on a vector v using a stretching factor a.\n",
        "\n",
        "    Args:\n",
        "        a (float): The stretching factor.\n",
        "        v (numpy.array): The vector (or vectors) to be stretched.\n",
        "\n",
        "    Returns:\n",
        "        numpy.array: The stretched vector.\n",
        "    \"\"\"\n",
        "\n",
        "    ### START CODE HERE ###\n",
        "    # Define the transformation matrix\n",
        "    T = np.array([[a, 0], [0, a]])\n",
        "\n",
        "    # Compute the transformation\n",
        "    w = T @ v\n",
        "    ### END CODE HERE ###\n",
        "\n",
        "    return w"
      ],
      "metadata": {
        "id": "oBkABUhkRRcY"
      },
      "execution_count": null,
      "outputs": []
    },
    {
      "cell_type": "code",
      "source": [
        "# GRADED FUNCTION: T_hshear\n",
        "\n",
        "def T_hshear(m, v):\n",
        "    \"\"\"\n",
        "    Performs a 2D horizontal shearing transformation on an array v using a shearing factor m.\n",
        "\n",
        "    Args:\n",
        "        m (float): The shearing factor.\n",
        "        v (np.array): The array to be sheared.\n",
        "\n",
        "    Returns:\n",
        "        np.array: The sheared array.\n",
        "    \"\"\"\n",
        "\n",
        "    # Define the transformation matrix\n",
        "    # T = np.array([[None,None], [None,None]])\n",
        "    T = np.array([[1, m],\n",
        "                  [0, 1]])\n",
        "\n",
        "    # Compute the transformation\n",
        "    w = T @ v\n",
        "\n",
        "\n",
        "    return w"
      ],
      "metadata": {
        "id": "9OlYREJtSLNU"
      },
      "execution_count": null,
      "outputs": []
    },
    {
      "cell_type": "code",
      "source": [
        "# GRADED FUNCTION: T_rotation\n",
        "def T_rotation(theta, v):\n",
        "    \"\"\"\n",
        "    Performs a 2D rotation transformation on an array v using a rotation angle theta.\n",
        "\n",
        "    Args:\n",
        "        theta (float): The rotation angle in radians.\n",
        "        v (np.array): The array to be rotated.\n",
        "\n",
        "    Returns:\n",
        "        np.array: The rotated array.\n",
        "    \"\"\"\n",
        "\n",
        "    ### START CODE HERE ###\n",
        "    # Define the transformation matrix\n",
        "    # T = np.array([[None,None], [None,None]])\n",
        "    T = np.array([[np.cos(theta), -np.sin(theta)], [np.sin(theta), np.cos(theta)]])\n",
        "\n",
        "    # Compute the transformation\n",
        "    w = T @ v\n",
        "\n",
        "    ### END CODE HERE ###\n",
        "\n",
        "    return w"
      ],
      "metadata": {
        "id": "a34K0u-YTQrD"
      },
      "execution_count": null,
      "outputs": []
    },
    {
      "cell_type": "code",
      "source": [
        "def T_rotation_and_stretch(theta, a, v):\n",
        "    \"\"\"\n",
        "    Performs a combined 2D rotation and stretching transformation on an array v using a rotation angle theta and a stretching factor a.\n",
        "\n",
        "    Args:\n",
        "        theta (float): The rotation angle in radians.\n",
        "        a (float): The stretching factor.\n",
        "        v (np.array): The array to be transformed.\n",
        "\n",
        "    Returns:\n",
        "        np.array: The transformed array.\n",
        "    \"\"\"\n",
        "    ### START CODE HERE ###\n",
        "\n",
        "    rotation_T = np.array([[np.cos(theta), -np.sin(theta)], [np.sin(theta), np.cos(theta)]])\n",
        "    stretch_T = np.array([[a, 0], [0, a]])\n",
        "\n",
        "    w  = rotation_T @ (stretch_T @ v)\n",
        "\n",
        "    ### END CODE HERE ###\n",
        "\n",
        "    return w\n"
      ],
      "metadata": {
        "id": "alpwO9kbTrw-"
      },
      "execution_count": null,
      "outputs": []
    }
  ]
}
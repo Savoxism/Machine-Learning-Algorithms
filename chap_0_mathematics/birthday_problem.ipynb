{
  "cells": [
    {
      "cell_type": "markdown",
      "metadata": {
        "colab_type": "text",
        "id": "view-in-github"
      },
      "source": [
        "<a href=\"https://colab.research.google.com/github/Savoxism/Mathematical-Algorithms/blob/main/birthday_problem.ipynb\" target=\"_parent\"><img src=\"https://colab.research.google.com/assets/colab-badge.svg\" alt=\"Open In Colab\"/></a>"
      ]
    },
    {
      "cell_type": "markdown",
      "metadata": {
        "id": "ZyGHquHLm95C"
      },
      "source": [
        "## The First Problem: \n",
        "Given a pre-defined date, what is the value of n such that the probability of having a match is greater or equal to 0.5? (More likely than not event so to speak)."
      ]
    },
    {
      "cell_type": "code",
      "execution_count": 9,
      "metadata": {
        "id": "1uGmR6hjkbGi"
      },
      "outputs": [
        {
          "name": "stdout",
          "output_type": "stream",
          "text": [
            "The simulated probability of any student to have a bday equal to a predefined value is 0.5037 in a classroom with 255 students\n"
          ]
        }
      ],
      "source": [
        "import numpy as np\n",
        "\n",
        "def simulate(problem_func, n_students=365, n_simulations=1000):\n",
        "    matches = 0\n",
        "\n",
        "    for _ in range(n_simulations):\n",
        "\n",
        "        if problem_func(n_students):\n",
        "            matches += 1\n",
        "\n",
        "    return matches/n_simulations\n",
        "\n",
        "def problem_1(n_students):\n",
        "    predef_bday = np.random.randint(0, 365)\n",
        "    gen_bdays = np.random.randint(0, 365, (n_students))\n",
        "    return predef_bday in gen_bdays\n",
        "\n",
        "#Example Usage\n",
        "n = 255\n",
        "simulated_prob = simulate(problem_1, n_students=n, n_simulations=10_000)\n",
        "\n",
        "print(f\"The simulated probability of any student to have a bday equal to a predefined value is {simulated_prob} in a classroom with {n} students\")"
      ]
    },
    {
      "cell_type": "markdown",
      "metadata": {
        "id": "2V97xmOknW8f"
      },
      "source": [
        "## The Second Problem: \n",
        "Given a classroom with n students, if you draw any student at random what is the value of n such that the probability of having a match with another student is greater than or equal to 0.5?"
      ]
    },
    {
      "cell_type": "code",
      "execution_count": 20,
      "metadata": {
        "id": "ZPHuIrxfksya"
      },
      "outputs": [
        {
          "name": "stdout",
          "output_type": "stream",
          "text": [
            "The simulated probability of two students sharing the same birthday is: 0.0567 in a classroom with 23 students\n"
          ]
        }
      ],
      "source": [
        "def problem_2(n_students):\n",
        "    gen_bdays = np.random.randint(0, 365, (n_students))\n",
        "    rnd_index = np.random.randint(0, len(gen_bdays))\n",
        "    rnd_bday = gen_bdays[rnd_index]\n",
        "    remaining_bdays = np.delete(gen_bdays, rnd_index, axis=0)\n",
        "\n",
        "    return rnd_bday in remaining_bdays\n",
        "\n",
        "#Example Usage\n",
        "n = 23\n",
        "simulated_prob = simulate(problem_2, n_students=n, n_simulations=10_000)\n",
        "\n",
        "print(f\"The simulated probability of two students sharing the same birthday is: {simulated_prob} in a classroom with {n} students\")"
      ]
    },
    {
      "cell_type": "markdown",
      "metadata": {
        "id": "O89Of0SYrd3O"
      },
      "source": [
        "## The Third Problem: \n",
        "Given a classroom with students, what is the value of n such that the probability of having a match is greater than or equal to 0.5 for any two students?"
      ]
    },
    {
      "cell_type": "code",
      "execution_count": 23,
      "metadata": {
        "id": "kz3O7qGUqKUa"
      },
      "outputs": [
        {
          "name": "stdout",
          "output_type": "stream",
          "text": [
            "The simulated probability of two students sharing the same birthday is: 0.5034 in a classroom with 23 students\n"
          ]
        }
      ],
      "source": [
        "def problem_3(n_students):\n",
        "    gen_bdays = np.random.randint(0, 365, (n_students))\n",
        "\n",
        "    unique_bdays = np.array(list(set(gen_bdays)))\n",
        "    return len(unique_bdays) != len(gen_bdays)\n",
        "\n",
        "#Example Usage\n",
        "n = 23\n",
        "simulated_prob = simulate(problem_3, n_students=n, n_simulations=10_000)\n",
        "\n",
        "print(f\"The simulated probability of two students sharing the same birthday is: {simulated_prob} in a classroom with {n} students\")"
      ]
    },
    {
      "cell_type": "markdown",
      "metadata": {
        "id": "C1P902XvDnZ0"
      },
      "source": [
        "## The Fourth Problem: \n",
        "Given two classrooms with n students, what is the value of n such that the probability of having a match is greater than or equal to 0.5 for any two students in each classroom?"
      ]
    },
    {
      "cell_type": "code",
      "execution_count": 24,
      "metadata": {
        "id": "NU79LVwcDpF4"
      },
      "outputs": [
        {
          "name": "stdout",
          "output_type": "stream",
          "text": [
            "The simulated probability of two students from two different classes sharing the same birthday is: 0.51 in a classroom with 16 students\n"
          ]
        }
      ],
      "source": [
        "def problem_4(n_students):\n",
        "    gen_bdays_1 = np.random.randint(0, 365, (n_students))\n",
        "\n",
        "    gen_bdays_2 = np.random.randint(0, 365, (n_students))\n",
        "\n",
        "\n",
        "    return np.isin(gen_bdays_1, gen_bdays_2).any()\n",
        "\n",
        "#Example Usage\n",
        "n = 16\n",
        "simulated_prob = simulate(problem_4, n_students=n, n_simulations=10_000)\n",
        "\n",
        "print(f\"The simulated probability of two students from two different classes sharing the same birthday is: {simulated_prob} in a classroom with {n} students\")"
      ]
    }
  ],
  "metadata": {
    "colab": {
      "authorship_tag": "ABX9TyO2+qBup+f5bRzeddiZvINM",
      "include_colab_link": true,
      "provenance": []
    },
    "kernelspec": {
      "display_name": "Python 3",
      "name": "python3"
    },
    "language_info": {
      "codemirror_mode": {
        "name": "ipython",
        "version": 3
      },
      "file_extension": ".py",
      "mimetype": "text/x-python",
      "name": "python",
      "nbconvert_exporter": "python",
      "pygments_lexer": "ipython3",
      "version": "3.11.11"
    }
  },
  "nbformat": 4,
  "nbformat_minor": 0
}

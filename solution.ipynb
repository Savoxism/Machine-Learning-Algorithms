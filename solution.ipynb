{
 "cells": [
  {
   "cell_type": "markdown",
   "id": "e8ebaaa9",
   "metadata": {},
   "source": [
    "# 1. Setup"
   ]
  },
  {
   "cell_type": "code",
   "execution_count": null,
   "id": "6e87a447",
   "metadata": {},
   "outputs": [],
   "source": [
    "import pandas as pd\n",
    "import numpy as np\n",
    "import matplotlib.pyplot as plt\n",
    "import seaborn as sns \n",
    "import itertools\n",
    "from sklearn.preprocessing import LabelEncoder, PolynomialFeatures, StandardScaler\n",
    "\n",
    "import warnings \n",
    "warnings.simplefilter(action='ignore')\n",
    "\n",
    "train_df = pd.read_csv(\"data/train.csv\")\n",
    "test_df = pd.read_csv(\"data/test.csv\")\n",
    "submission_df = pd.read_csv(\"data/sample_submission.csv\")"
   ]
  },
  {
   "cell_type": "code",
   "execution_count": null,
   "id": "cbf0c622",
   "metadata": {},
   "outputs": [],
   "source": [
    "train_df.head()"
   ]
  },
  {
   "cell_type": "code",
   "execution_count": null,
   "id": "849051a1",
   "metadata": {},
   "outputs": [],
   "source": [
    "train_df.columns"
   ]
  },
  {
   "cell_type": "markdown",
   "id": "f3df27aa",
   "metadata": {},
   "source": [
    "# 2. Data Preprocessing"
   ]
  },
  {
   "cell_type": "code",
   "execution_count": null,
   "id": "92cd9a64",
   "metadata": {},
   "outputs": [],
   "source": [
    "# THERE IS NO NAN VALUES\n",
    "# print(train_df.isnull().sum())\n",
    "# print(test_df.isnull().sum())"
   ]
  },
  {
   "cell_type": "code",
   "execution_count": null,
   "id": "874e9cee",
   "metadata": {},
   "outputs": [],
   "source": [
    "plt.figure(figsize=(8, 5))\n",
    "\n",
    "# Boxplot\n",
    "sns.boxplot(y=train_df['Calories'])\n",
    "plt.title('Boxplot of Calories')\n",
    "\n",
    "plt.tight_layout()\n",
    "plt.show()"
   ]
  },
  {
   "cell_type": "code",
   "execution_count": null,
   "id": "cb5b0e05",
   "metadata": {},
   "outputs": [],
   "source": [
    "numerical_features = ['Age', 'Height', 'Weight', 'Duration', 'Heart_Rate', 'Body_Temp']\n",
    "\n",
    "def add_cross_features(df, features):\n",
    "    df = df.copy()\n",
    "    df = df.loc[:, ~df.columns.duplicated()]\n",
    "    for i in range(len(features)):\n",
    "        for j in range(i + 1, len(features)):\n",
    "            f1 = features[i]\n",
    "            f2 = features[j]\n",
    "            df[f\"{f1}_{f2}\"] = df[f1] * df[f2]\n",
    "    return df\n",
    "\n",
    "def add_interaction_features(df, features):\n",
    "    df_new = df.copy()\n",
    "    for f1, f2 in itertools.combinations(features, 2):\n",
    "        df_new[f\"{f1}_plus_{f2}\"] = df_new[f1] + df_new[f2]\n",
    "        df_new[f\"{f1}_minus_{f2}\"] = df_new[f1] - df_new[f2]\n",
    "        df_new[f\"{f2}_minus_{f1}\"] = df_new[f2] - df_new[f1]\n",
    "        df_new[f\"{f1}_div_{f2}\"] = df_new[f1] / (df_new[f2] + 1e-5)\n",
    "        df_new[f\"{f2}_div_{f1}\"] = df_new[f2] / (df_new[f1] + 1e-5)\n",
    "    return df_new\n",
    "\n",
    "def add_statistical_features(df, features):\n",
    "    df_new = df.copy()\n",
    "    df_new[\"row_mean\"] = df[features].mean(axis=1)\n",
    "    df_new[\"row_std\"] = df[features].std(axis=1)\n",
    "    df_new[\"row_max\"] = df[features].max(axis=1)\n",
    "    df_new[\"row_min\"] = df[features].min(axis=1)\n",
    "    df_new[\"row_median\"] = df[features].median(axis=1)\n",
    "    df_new[\"row_sum\"] = df[features].sum(axis=1)\n",
    "    return df_new\n",
    "\n",
    "# train_df = add_cross_features(train_df, numerical_features)\n",
    "train_df = add_interaction_features(train_df, numerical_features)\n",
    "train_df = add_statistical_features(train_df, numerical_features)\n",
    "\n",
    "# test_df = add_cross_features(test_df, numerical_features)\n",
    "test_df = add_interaction_features(test_df, numerical_features)\n",
    "test_df = add_statistical_features(test_df, numerical_features)"
   ]
  },
  {
   "cell_type": "code",
   "execution_count": null,
   "id": "bbd833a2",
   "metadata": {},
   "outputs": [],
   "source": [
    "le = LabelEncoder()\n",
    "train_df[\"Sex\"] = le.fit_transform(train_df[\"Sex\"])\n",
    "test_df[\"Sex\"] = le.transform(test_df[\"Sex\"])\n",
    "\n",
    "train_df[\"Sex\"] = train_df[\"Sex\"].astype(\"category\")   \n",
    "test_df[\"Sex\"] = test_df[\"Sex\"].astype(\"category\")\n",
    "\n",
    "poly = PolynomialFeatures(degree=2, interaction_only=True, include_bias=False)\n",
    "poly_train = poly.fit_transform(train_df[numerical_features])\n",
    "poly_test = poly.transform(test_df[numerical_features])\n",
    "\n",
    "poly_feature_names = poly.get_feature_names_out(numerical_features)\n",
    "\n",
    "poly_train_df = pd.DataFrame(poly_train, columns=poly_feature_names)    \n",
    "poly_test_df = pd.DataFrame(poly_test, columns=poly_feature_names)\n",
    "\n",
    "train_df = pd.concat([train_df.reset_index(drop=True), poly_train_df], axis=1)\n",
    "test_df = pd.concat([test_df.reset_index(drop=True), poly_test_df], axis=1)\n",
    "\n",
    "X = train_df.drop(columns=['id', 'Calories'])\n",
    "y = np.log1p(train_df['Calories'])\n",
    "X_test = test_df.drop(columns=['id'])"
   ]
  },
  {
   "cell_type": "code",
   "execution_count": null,
   "id": "043a50f9",
   "metadata": {},
   "outputs": [],
   "source": [
    "X"
   ]
  },
  {
   "cell_type": "code",
   "execution_count": null,
   "id": "344e4f23",
   "metadata": {},
   "outputs": [],
   "source": [
    "X['Age Height'][0]\n",
    "# X['Age_Height'][0]"
   ]
  },
  {
   "cell_type": "markdown",
   "id": "9aa39544",
   "metadata": {},
   "source": [
    "# 3. Feature Engineering"
   ]
  },
  {
   "cell_type": "code",
   "execution_count": null,
   "id": "d13f4d76",
   "metadata": {},
   "outputs": [],
   "source": [
    "# Pearson correlation with the raw target\n",
    "corr_raw = train_df.corr()['Calories'].abs().sort_values(ascending=False)\n",
    "print(\"Top 20 features by |corr| with Calories:\")\n",
    "print(corr_raw.iloc[0:20])"
   ]
  },
  {
   "cell_type": "code",
   "execution_count": null,
   "id": "bbbdda07",
   "metadata": {},
   "outputs": [],
   "source": [
    "y_log = np.log1p(train_df['Calories'])\n",
    "df_corr = pd.concat([train_df.drop(columns=['id','Calories']), y_log.rename('log_Calories')], axis=1)\n",
    "corr_log = df_corr.corr()['log_Calories'].abs().sort_values(ascending=False)\n",
    "print(\"\\nTop 10 features by |corr| with log(Calories+1):\")\n",
    "print(corr_log.iloc[0:25])"
   ]
  },
  {
   "cell_type": "code",
   "execution_count": null,
   "id": "658c1798",
   "metadata": {},
   "outputs": [],
   "source": []
  },
  {
   "cell_type": "markdown",
   "id": "8cecda38",
   "metadata": {},
   "source": [
    "# 4. Modeling"
   ]
  },
  {
   "cell_type": "code",
   "execution_count": null,
   "id": "32be482a",
   "metadata": {},
   "outputs": [],
   "source": [
    "from sklearn.model_selection import KFold\n",
    "from sklearn.metrics import mean_squared_log_error\n",
    "from catboost import CatBoostRegressor\n",
    "from xgboost import XGBRegressor\n",
    "from lightgbm import LGBMRegressor\n",
    "import time\n",
    "\n",
    "FOLDS = 7\n",
    "SEED = 42\n",
    "\n",
    "kf = KFold(n_splits=FOLDS, shuffle=True, random_state=SEED)\n",
    "\n",
    "models = {\n",
    "    \"CatBoost\": CatBoostRegressor(iterations=1000, verbose=100, random_state=SEED, cat_features=[\"Sex\"], early_stopping_rounds=100),\n",
    "    \"XGBoost\": XGBRegressor(n_estimators=2000, learnning_rate=0.02, max_depth=10, colsample_bytree=0.7, subsample=0.9, \n",
    "                            gamma=0.01, max_delta_step=2, early_stopping_rounds=100, eval_metric=\"rmse\", enable_categorical=True, random_state=SEED),\n",
    "    \"LightGBM\": LGBMRegressor(n_estimators=2000, learning_rate=0.02, max_depth=10, colsample_bytree=0.7,\n",
    "                            subsample=0.9, random_state=42, verbose=-1)\n",
    "}\n",
    "\n",
    "results = {name: {'oof': np.zeros(len(train_df)), 'pred': np.zeros(len(test_df)), 'rmsle': []} for name in models}\n",
    "\n",
    "for name, model in models.items():\n",
    "    print(f\"Training {name}...\")\n",
    "    for i, (train_idx, valid_idx) in enumerate(kf.split(X, y)):\n",
    "        print(f\"\\nFold {i+1}\")\n",
    "        X_train, y_train = X.iloc[train_idx], y[train_idx]\n",
    "        X_valid, y_valid = X.iloc[valid_idx], y[valid_idx]\n",
    "\n",
    "        X_train = X_train.loc[:, ~X_train.columns.duplicated()]\n",
    "        X_valid = X_valid.loc[:, ~X_valid.columns.duplicated()]\n",
    "        X_test = X_test.loc[:, ~X_test.columns.duplicated()]\n",
    "\n",
    "        start = time.time()\n",
    "\n",
    "        if name == \"XGBoost\":\n",
    "            model.fit(X_train, y_train, eval_set=[(X_valid, y_valid)], verbose=100)\n",
    "        elif name  == \"CatBoost\":\n",
    "            model.fit(X_train, y_train, eval_set=(X_valid, y_valid))\n",
    "        else:\n",
    "            model.fit(X_train, y_train)\n",
    "\n",
    "        oof_pred = model.predict(X_valid)\n",
    "        test_pred = model.predict(X_test)\n",
    "\n",
    "        results[name]['oof'][valid_idx] = oof_pred\n",
    "        results[name]['pred'] += test_pred / FOLDS\n",
    "\n",
    "        # Compute the RMSLE error \n",
    "        rmsle = np.sqrt(mean_squared_log_error(np.expm1(y_valid), np.expm1(oof_pred)))\n",
    "        results[name]['rmsle'].append(rmsle)\n",
    "\n",
    "        print(f\"Fold {i+1} RMSLE: {rmsle:.4f}\")\n",
    "        print(f\"Training time: {time.time() - start:.1f} sec\")\n",
    "\n",
    "print(\"\\n=== Model Comparison ===\")\n",
    "for name in models:\n",
    "    mean_rmsle = np.mean(results[name]['rmsle'])\n",
    "    std_rmsle = np.std(results[name]['rmsle'])\n",
    "    print(f\"{name} - Mean RMSLE: {mean_rmsle:.4f} ± {std_rmsle:.4f}\")"
   ]
  },
  {
   "cell_type": "markdown",
   "id": "9f0e9d66",
   "metadata": {},
   "source": [
    "# 5. Inference & Submission"
   ]
  },
  {
   "cell_type": "code",
   "execution_count": null,
   "id": "10a9775d",
   "metadata": {},
   "outputs": [],
   "source": []
  },
  {
   "cell_type": "code",
   "execution_count": null,
   "id": "d501d07e",
   "metadata": {},
   "outputs": [],
   "source": []
  }
 ],
 "metadata": {
  "kernelspec": {
   "display_name": "Python 3",
   "language": "python",
   "name": "python3"
  },
  "language_info": {
   "codemirror_mode": {
    "name": "ipython",
    "version": 3
   },
   "file_extension": ".py",
   "mimetype": "text/x-python",
   "name": "python",
   "nbconvert_exporter": "python",
   "pygments_lexer": "ipython3",
   "version": "3.11.11"
  }
 },
 "nbformat": 4,
 "nbformat_minor": 5
}

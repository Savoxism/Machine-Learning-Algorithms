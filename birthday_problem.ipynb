{
  "nbformat": 4,
  "nbformat_minor": 0,
  "metadata": {
    "colab": {
      "provenance": [],
      "authorship_tag": "ABX9TyO2+qBup+f5bRzeddiZvINM",
      "include_colab_link": true
    },
    "kernelspec": {
      "name": "python3",
      "display_name": "Python 3"
    },
    "language_info": {
      "name": "python"
    }
  },
  "cells": [
    {
      "cell_type": "markdown",
      "metadata": {
        "id": "view-in-github",
        "colab_type": "text"
      },
      "source": [
        "<a href=\"https://colab.research.google.com/github/Savoxism/Mathematical-Algorithms/blob/main/birthday_problem.ipynb\" target=\"_parent\"><img src=\"https://colab.research.google.com/assets/colab-badge.svg\" alt=\"Open In Colab\"/></a>"
      ]
    },
    {
      "cell_type": "code",
      "execution_count": null,
      "metadata": {
        "id": "1uGmR6hjkbGi"
      },
      "outputs": [],
      "source": [
        "#Importing necessary modules\n",
        "import numpy as np"
      ]
    },
    {
      "cell_type": "code",
      "source": [
        "def simulate(problem_func, n_students=365, n_simulations=1000):\n",
        "\n",
        "    # Initialize the counter of matches at 0\n",
        "    matches = 0\n",
        "\n",
        "    # Run the simulation for the desired number of times\n",
        "    for _ in range(n_simulations):\n",
        "\n",
        "        # If there is a match in the classroom add 1 to the counter of matches\n",
        "        if problem_func(n_students):\n",
        "            matches += 1\n",
        "\n",
        "    # Return the ratio of number of matches / number of simulations\n",
        "    return matches/n_simulations"
      ],
      "metadata": {
        "id": "1I5gB4Srkl4_"
      },
      "execution_count": null,
      "outputs": []
    },
    {
      "cell_type": "markdown",
      "source": [
        "First Problem: Given a pre-defined date, what is the value of n such that the probability of having a match is greater or equal to 0.5? (More likely than not event so to speak)."
      ],
      "metadata": {
        "id": "ZyGHquHLm95C"
      }
    },
    {
      "cell_type": "code",
      "source": [
        "def problem_1(n_students):\n",
        "\n",
        "    # Predefine a specific birthday\n",
        "    predef_bday = np.random.randint(0, 365)\n",
        "\n",
        "    # Generate birthdays for every student\n",
        "    gen_bdays = np.random.randint(0, 365, (n_students))\n",
        "\n",
        "    # Check if predefined bday is among students\n",
        "    return predef_bday in gen_bdays"
      ],
      "metadata": {
        "id": "6aHNny2mkqN0"
      },
      "execution_count": null,
      "outputs": []
    },
    {
      "cell_type": "code",
      "source": [
        "#Example Usage\n",
        "n = 255\n",
        "simulated_prob = simulate(problem_1, n_students=n, n_simulations=10_000)\n",
        "\n",
        "print(f\"The simulated probability of any student to have a bday equal to a predefined value is {simulated_prob} in a classroom with {n} students\")"
      ],
      "metadata": {
        "id": "x5DgjT0Gkqsq"
      },
      "execution_count": null,
      "outputs": []
    },
    {
      "cell_type": "markdown",
      "source": [
        "Analytical Solution:"
      ],
      "metadata": {
        "id": "wL-iqu3ena5z"
      }
    },
    {
      "cell_type": "markdown",
      "source": [
        "The Second Problem: Given a classroom with n students, if you draw any student at random what is the value of n such that the probability of having a match with another student is greater than or equal to 0.5?"
      ],
      "metadata": {
        "id": "2V97xmOknW8f"
      }
    },
    {
      "cell_type": "code",
      "source": [
        "def problem_2(n_students):\n",
        "\n",
        "    # Generate birthdays for every student\n",
        "    gen_bdays = np.random.randint(0, 365, (n_students))\n",
        "\n",
        "    # Pick one student at random\n",
        "    rnd_index = np.random.randint(0, len(gen_bdays))\n",
        "\n",
        "    # Get the bday from the selected student\n",
        "    rnd_bday = gen_bdays[rnd_index]\n",
        "\n",
        "    # Take the bday out of the pool of bdays (otherwise there is always a match)\n",
        "    remaining_bdays = np.delete(gen_bdays, rnd_index, axis=0)\n",
        "\n",
        "    # Check if another student shares the same bday\n",
        "    return rnd_bday in remaining_bdays"
      ],
      "metadata": {
        "id": "ZPHuIrxfksya"
      },
      "execution_count": null,
      "outputs": []
    },
    {
      "cell_type": "code",
      "source": [
        "#Example Usage\n",
        "n = 23\n",
        "simulated_prob = simulate(problem_2, n_students=n, n_simulations=10_000)\n",
        "\n",
        "print(f\"The simulated probability of two students sharing the same birthday is: {simulated_prob} in a classroom with {n} students\")"
      ],
      "metadata": {
        "id": "NtdxjDE5p2rb"
      },
      "execution_count": null,
      "outputs": []
    },
    {
      "cell_type": "markdown",
      "source": [
        "Analytical Solution:"
      ],
      "metadata": {
        "id": "0gsaQRYwra74"
      }
    },
    {
      "cell_type": "markdown",
      "source": [
        "The Third Problem: given a classroom with students, what is the value of n such that the probability of having a match is greater than or equal to 0.5 for any two students?"
      ],
      "metadata": {
        "id": "O89Of0SYrd3O"
      }
    },
    {
      "cell_type": "code",
      "source": [
        "def problem_3(n_students):\n",
        "\n",
        "    # Generate birthdays for every student\n",
        "    gen_bdays = np.random.randint(0, 365, (n_students))\n",
        "\n",
        "    # Get array containing unique bdays\n",
        "    unique_bdays = np.array(list(set(gen_bdays)))\n",
        "\n",
        "    # Check that both the original and unique arrays have the same length\n",
        "    # (if so then no two students share the same bday)\n",
        "    return len(unique_bdays) != len(gen_bdays)"
      ],
      "metadata": {
        "id": "kz3O7qGUqKUa"
      },
      "execution_count": null,
      "outputs": []
    },
    {
      "cell_type": "code",
      "source": [
        "#Example Usage\n",
        "n = 23\n",
        "simulated_prob = simulate(problem_3, n_students=n, n_simulations=10_000)\n",
        "\n",
        "print(f\"The simulated probability of two students sharing the same birthday is: {simulated_prob} in a classroom with {n} students\")"
      ],
      "metadata": {
        "id": "eq3-PorfEEwc"
      },
      "execution_count": null,
      "outputs": []
    },
    {
      "cell_type": "markdown",
      "source": [
        "Analytical Solution:\n"
      ],
      "metadata": {
        "id": "HK5u3jVPDlyk"
      }
    },
    {
      "cell_type": "markdown",
      "source": [
        "The Fourth Problem:  given two classrooms with n students, what is the value of n such that the probability of having a match is greater than or equal to 0.5 for any two students in each classroom?"
      ],
      "metadata": {
        "id": "C1P902XvDnZ0"
      }
    },
    {
      "cell_type": "code",
      "source": [
        "def problem_4(n_students):\n",
        "\n",
        "    # Generate birthdays for every student in classroom 1\n",
        "    gen_bdays_1 = np.random.randint(0, 365, (n_students))\n",
        "\n",
        "    # Generate birthdays for every student in classroom 2\n",
        "    gen_bdays_2 = np.random.randint(0, 365, (n_students))\n",
        "\n",
        "    # Check for any match between both classrooms\n",
        "    return np.isin(gen_bdays_1, gen_bdays_2).any()"
      ],
      "metadata": {
        "id": "NU79LVwcDpF4"
      },
      "execution_count": null,
      "outputs": []
    },
    {
      "cell_type": "code",
      "source": [
        "#Example Usage\n",
        "n = 16\n",
        "simulated_prob = simulate(problem_4, n_students=n, n_simulations=10_000)\n",
        "\n",
        "print(f\"The simulated probability of two students from two different classes sharing the same birthday is: {simulated_prob} in a classroom with {n} students\")"
      ],
      "metadata": {
        "id": "vdooxsOpEBwB"
      },
      "execution_count": null,
      "outputs": []
    },
    {
      "cell_type": "markdown",
      "source": [
        "Analytical Soltution:"
      ],
      "metadata": {
        "id": "Zx5mFwwSD_sI"
      }
    }
  ]
}
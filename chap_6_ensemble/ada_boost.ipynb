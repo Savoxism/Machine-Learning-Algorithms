{
 "cells": [
  {
   "cell_type": "markdown",
   "id": "27070611",
   "metadata": {},
   "source": [
    "# 1. Setup"
   ]
  },
  {
   "cell_type": "code",
   "execution_count": 10,
   "id": "5f024b4f",
   "metadata": {},
   "outputs": [
    {
     "name": "stdout",
     "output_type": "stream",
     "text": [
      "Number of classes: 2\n",
      "Number of data points: 150\n"
     ]
    }
   ],
   "source": [
    "from tqdm import tqdm\n",
    "import numpy as np\n",
    "from sklearn import datasets\n",
    "from sklearn.model_selection import train_test_split\n",
    "from sklearn.metrics import accuracy_score\n",
    "\n",
    "iris = datasets.load_iris()\n",
    "X = iris.data\n",
    "y = np.where(iris.target == 0, 1, -1) \n",
    "print('Number of classes: %d' %len(np.unique(y)))\n",
    "print('Number of data points: %d' %len(y))\n",
    "\n",
    "X_train, X_test, y_train, y_test = train_test_split(X, y, test_size=0.3, random_state=42)"
   ]
  },
  {
   "cell_type": "code",
   "execution_count": 2,
   "id": "56bc8dff",
   "metadata": {},
   "outputs": [],
   "source": [
    "class DecisionStump:\n",
    "    def __init__(self):\n",
    "        self.polarity = 1\n",
    "        self.feature_index = None\n",
    "        self.threshold = None\n",
    "        self.alpha = None\n",
    "    \n",
    "    def predict(self, X):\n",
    "        n_samples = X.shape[0]\n",
    "        predictions = np.ones(n_samples)\n",
    "\n",
    "        feature_column = X[:, self.feature_index]\n",
    "\n",
    "        if self.polarity == 1:\n",
    "            predictions[feature_column < self.threshold] = -1\n",
    "        else:\n",
    "            predictions[feature_column > self.threshold] = -1\n",
    "\n",
    "        return predictions"
   ]
  },
  {
   "cell_type": "code",
   "execution_count": 4,
   "id": "2ab8ce07",
   "metadata": {},
   "outputs": [
    {
     "name": "stdout",
     "output_type": "stream",
     "text": [
      "Predictions: [-1. -1.  1.  1. -1.]\n"
     ]
    }
   ],
   "source": [
    "X = np.array([[2],\n",
    "              [4],\n",
    "              [6],\n",
    "              [8],\n",
    "              [1]])\n",
    "\n",
    "stump = DecisionStump()\n",
    "stump.feature_index = 0\n",
    "stump.threshold = 5\n",
    "stump.polarity = 1\n",
    "predictions = stump.predict(X)\n",
    "print('Predictions:', predictions)"
   ]
  },
  {
   "cell_type": "code",
   "execution_count": 9,
   "id": "67074e32",
   "metadata": {},
   "outputs": [],
   "source": [
    "class AdaBoost:\n",
    "    def __init__(self, n_classifiers=5):\n",
    "        self.n_classifiers = n_classifiers\n",
    "        self.classifiers = []\n",
    "\n",
    "    def fit(self, X, y):\n",
    "        n_samples, n_features = X.shape\n",
    "\n",
    "        # initialize weights\n",
    "        w = np.full(n_samples, (1 / n_samples))\n",
    "\n",
    "        # start loop from t to T \n",
    "        for _ in tqdm(range(self.n_classifiers), desc=\"Training AdaBoost\"):\n",
    "            clf = DecisionStump()\n",
    "            min_error = float('inf')    \n",
    "\n",
    "            # choose feature that minimizes the weighted error\n",
    "            for feature_i in range(n_features):\n",
    "                X_column = X[:, feature_i]\n",
    "                thresholds = np.unique(X_column)\n",
    "\n",
    "                for threshold in thresholds:\n",
    "                    predictions = np.ones(n_samples)\n",
    "\n",
    "                    predictions[X_column < threshold] = -1\n",
    "\n",
    "                    error = sum(w[y != predictions])\n",
    "\n",
    "                    if error > 0.5:\n",
    "                        error = 1 - error\n",
    "                        p = -1\n",
    "                    else:\n",
    "                        p = 1\n",
    "\n",
    "                    if error < min_error:\n",
    "                        clf.polarity = p\n",
    "                        clf.threshold = threshold\n",
    "                        clf.feature_index = feature_i\n",
    "                        min_error = error\n",
    "\n",
    "            # calculate amount of say\n",
    "            EPS = 1e-10\n",
    "            clf.alpha = 0.5 * np.log((1 - min_error) / (min_error + EPS))\n",
    "            predictions = clf.predict(X)\n",
    "\n",
    "            # Update weights \n",
    "            w *= np.exp(-clf.alpha * y * predictions)\n",
    "            w /= np.sum(w)\n",
    "            self.classifiers.append(clf)\n",
    "    \n",
    "    def predict(self, X):\n",
    "        clf_preds = [clf.alpha * clf.predict(X) for clf in self.classifiers]\n",
    "        y_pred = np.sum(clf_preds, axis=0)\n",
    "        return np.sign(y_pred)"
   ]
  },
  {
   "cell_type": "code",
   "execution_count": 11,
   "id": "eed1f1ce",
   "metadata": {},
   "outputs": [
    {
     "name": "stderr",
     "output_type": "stream",
     "text": [
      "Training AdaBoost: 100%|██████████| 5/5 [00:00<00:00, 714.09it/s]\n"
     ]
    }
   ],
   "source": [
    "model = AdaBoost(n_classifiers=5)\n",
    "model.fit(X_train, y_train)"
   ]
  },
  {
   "cell_type": "code",
   "execution_count": 12,
   "id": "55373596",
   "metadata": {},
   "outputs": [
    {
     "name": "stdout",
     "output_type": "stream",
     "text": [
      "Training accuracy: 0.9905\n",
      "Testing accuracy: 1.0000\n"
     ]
    }
   ],
   "source": [
    "y_pred_train = model.predict(X_train)\n",
    "y_pred_test = model.predict(X_test)\n",
    "\n",
    "# Calculate accuracy\n",
    "train_accuracy = accuracy_score(y_train, y_pred_train)\n",
    "test_accuracy = accuracy_score(y_test, y_pred_test)\n",
    "\n",
    "print(f\"Training accuracy: {train_accuracy:.4f}\")\n",
    "print(f\"Testing accuracy: {test_accuracy:.4f}\")"
   ]
  }
 ],
 "metadata": {
  "kernelspec": {
   "display_name": "Python 3",
   "language": "python",
   "name": "python3"
  },
  "language_info": {
   "codemirror_mode": {
    "name": "ipython",
    "version": 3
   },
   "file_extension": ".py",
   "mimetype": "text/x-python",
   "name": "python",
   "nbconvert_exporter": "python",
   "pygments_lexer": "ipython3",
   "version": "3.12.3"
  }
 },
 "nbformat": 4,
 "nbformat_minor": 5
}

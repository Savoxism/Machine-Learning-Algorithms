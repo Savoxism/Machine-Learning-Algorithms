{
  "nbformat": 4,
  "nbformat_minor": 0,
  "metadata": {
    "colab": {
      "provenance": [],
      "authorship_tag": "ABX9TyOhNYtyAh5Oi9Cru5hOPZFP",
      "include_colab_link": true
    },
    "kernelspec": {
      "name": "python3",
      "display_name": "Python 3"
    },
    "language_info": {
      "name": "python"
    }
  },
  "cells": [
    {
      "cell_type": "markdown",
      "metadata": {
        "id": "view-in-github",
        "colab_type": "text"
      },
      "source": [
        "<a href=\"https://colab.research.google.com/github/Savoxism/Mathematical-Algorithms/blob/main/monty_hall.ipynb\" target=\"_parent\"><img src=\"https://colab.research.google.com/assets/colab-badge.svg\" alt=\"Open In Colab\"/></a>"
      ]
    },
    {
      "cell_type": "code",
      "execution_count": null,
      "metadata": {
        "id": "qefw8bwwJOzl"
      },
      "outputs": [],
      "source": [
        "#Importing Necessary Modules\n",
        "import numpy as np\n",
        "import matplotlib.pyplot as plt"
      ]
    },
    {
      "cell_type": "code",
      "source": [
        "def monty_hall(switch):\n",
        "\n",
        "    # All doors have a goat initially\n",
        "    doors = np.array([0, 0, 0])\n",
        "\n",
        "    # Randomnly decide which door will have a car\n",
        "    winner_index = np.random.randint(0, 3)\n",
        "\n",
        "    # Place the car in the winner door\n",
        "    doors[winner_index] = 1\n",
        "\n",
        "    # Participant selects a door at random\n",
        "    choice = np.random.randint(0, 3)\n",
        "\n",
        "    # Get doors that can be opened (host cannot open the door chosen or the one with the car)\n",
        "    openable_doors = [i for i in range(3) if i not in (winner_index, choice)]\n",
        "\n",
        "    # Host opens one of the available doors at random\n",
        "    door_to_open = np.random.choice(openable_doors)\n",
        "\n",
        "    # Switch to the other available door (the one that is not the original choice or the opened one)\n",
        "    if switch:\n",
        "        choice = [i for i in range(3) if i not in (choice, door_to_open)][0]\n",
        "\n",
        "    # Return 1 if you open a door with a car, 0 otherwise\n",
        "    return doors[choice]"
      ],
      "metadata": {
        "id": "xrgTNU8KJgbR"
      },
      "execution_count": null,
      "outputs": []
    },
    {
      "cell_type": "code",
      "source": [
        "# Number of iterations\n",
        "iterations = 1000\n",
        "\n",
        "# Simulations\n",
        "results_switch = [monty_hall(True) for _ in range(iterations)]\n",
        "results_no_switch = [monty_hall(False) for _ in range(iterations)]\n",
        "\n",
        "# Calculate win percentages\n",
        "win_percentage_switch = sum(results_switch) / iterations * 100\n",
        "win_percentage_no_switch = sum(results_no_switch) / iterations * 100\n",
        "\n",
        "# Print results\n",
        "print(f'Win percentage when switching: {win_percentage_switch}%')\n",
        "print(f'Win percentage when not switching: {win_percentage_no_switch}%')\n",
        "\n",
        "# Plot results\n",
        "labels = ['Switch', 'No Switch']\n",
        "win_percentages = [win_percentage_switch, win_percentage_no_switch]\n",
        "\n",
        "fig, ax = plt.subplots()\n",
        "ax.bar(labels, win_percentages, color=['blue', 'red'])\n",
        "ax.set_ylabel('Win Percentage')\n",
        "ax.set_title('Monty Hall Problem: Switching vs. Not Switching')\n",
        "\n",
        "for i, v in enumerate(win_percentages):\n",
        "    ax.text(i, v + 1, f\"{v:.2f}%\", ha='center', va='bottom')\n",
        "\n",
        "plt.show()"
      ],
      "metadata": {
        "id": "UCyl9vRSJtRz"
      },
      "execution_count": null,
      "outputs": []
    },
    {
      "cell_type": "code",
      "source": [
        "def generalized_monty_hall(switch, n = 3, k = 1):\n",
        "    if not (0 <= k <= n-2):\n",
        "        raise ValueError('k must be between 0 and n-2, so the Host can leave at least 1 openable door!')\n",
        "\n",
        "    # All doors have a goat initially\n",
        "    doors = np.array([0 for _ in range(n)])\n",
        "\n",
        "    # Decide which door will have a car\n",
        "    winner = np.random.randint(0,n)\n",
        "\n",
        "    # Place the car in the winner door\n",
        "    doors[winner] = 1.0\n",
        "\n",
        "    # Participant selects a door at random\n",
        "    choice = np.random.randint(0,n)\n",
        "\n",
        "    # Get doors that can be opened (host cannot open the door chosen or the one with the car)\n",
        "    openable_doors = [i for i in range(n) if i not in (winner, choice)]\n",
        "\n",
        "    # Host open k of the available doors at random\n",
        "    door_to_open = np.random.choice(openable_doors, size = k, replace = False)\n",
        "\n",
        "    # Switch to the other available door (the one that is not the original choice or the opened one)\n",
        "    if switch:\n",
        "        choices = [i for i in range(n) if i not in np.array(choice) and i not in np.array(door_to_open)]\n",
        "        # Player chooses another door at random\n",
        "        choice = np.random.choice(choices)\n",
        "\n",
        "    # Return 1 if you open a door with a car, 0 otherwise\n",
        "    return doors[choice]"
      ],
      "metadata": {
        "id": "1QElnkJXLrz6"
      },
      "execution_count": null,
      "outputs": []
    },
    {
      "cell_type": "code",
      "source": [
        "# Number of iterations\n",
        "iterations = 1000\n",
        "\n",
        "# Simulations\n",
        "results_switch = [generalized_monty_hall(True, n=100, k=98) for _ in range(iterations)]\n",
        "results_no_switch = [generalized_monty_hall(False, n=100, k=98) for _ in range(iterations)]\n",
        "\n",
        "# Calculate win percentages\n",
        "win_percentage_switch = sum(results_switch) / iterations * 100\n",
        "win_percentage_no_switch = sum(results_no_switch) / iterations * 100\n",
        "\n",
        "# Print results\n",
        "print(f'Win percentage when switching: {win_percentage_switch}%')\n",
        "print(f'Win percentage when not switching: {win_percentage_no_switch}%')\n",
        "\n",
        "# Plot results\n",
        "labels = ['Switch', 'No Switch']\n",
        "win_percentages = [win_percentage_switch, win_percentage_no_switch]\n",
        "\n",
        "fig, ax = plt.subplots()\n",
        "ax.bar(labels, win_percentages, color=['blue', 'red'])\n",
        "ax.set_ylabel('Win Percentage')\n",
        "ax.set_title('Generalized Monty Hall Problem: Switching vs. Not Switching')\n",
        "\n",
        "for i, v in enumerate(win_percentages):\n",
        "    ax.text(i, v + 1, f\"{v:.2f}%\", ha='center', va='bottom')\n",
        "\n",
        "plt.show()"
      ],
      "metadata": {
        "id": "UYLPkNJ0MQim"
      },
      "execution_count": null,
      "outputs": []
    },
    {
      "cell_type": "markdown",
      "source": [
        "Analytical Solution"
      ],
      "metadata": {
        "id": "Gq88HjkTMuVG"
      }
    }
  ]
}
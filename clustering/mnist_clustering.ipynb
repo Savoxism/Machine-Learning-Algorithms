{
 "cells": [
  {
   "cell_type": "code",
   "execution_count": null,
   "id": "ebaca138",
   "metadata": {},
   "outputs": [],
   "source": [
    "# %reset\n",
    "import numpy as np \n",
    "from mnist import MNIST # require `pip install python-mnist`\n",
    "import matplotlib.pyplot as plt\n",
    "from sklearn.cluster import KMeans"
   ]
  },
  {
   "cell_type": "code",
   "execution_count": null,
   "id": "24a1a5e7",
   "metadata": {},
   "outputs": [],
   "source": [
    "mndata = MNIST(\"data/mnist/\")\n",
    "mndata.load_testing()\n",
    "X = mndata.test_images"
   ]
  },
  {
   "cell_type": "code",
   "execution_count": null,
   "id": "79f09083",
   "metadata": {},
   "outputs": [],
   "source": [
    "kmeans = KMeans(n_clusters=10, random_state=42).fit(X)\n",
    "pred_label = kmeans.predict(X)"
   ]
  }
 ],
 "metadata": {
  "kernelspec": {
   "display_name": "Python 3",
   "language": "python",
   "name": "python3"
  },
  "language_info": {
   "codemirror_mode": {
    "name": "ipython",
    "version": 3
   },
   "file_extension": ".py",
   "mimetype": "text/x-python",
   "name": "python",
   "nbconvert_exporter": "python",
   "pygments_lexer": "ipython3",
   "version": "3.12.3"
  }
 },
 "nbformat": 4,
 "nbformat_minor": 5
}
